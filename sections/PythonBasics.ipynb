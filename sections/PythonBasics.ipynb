{
 "cells": [
  {
   "cell_type": "markdown",
   "metadata": {},
   "source": [
    "# Python Basics"
   ]
  },
  {
   "cell_type": "markdown",
   "metadata": {},
   "source": [
    "## Variables and Expressions"
   ]
  },
  {
   "cell_type": "markdown",
   "metadata": {},
   "source": [
    "Python has the same built-in types you are used to in Java (int, double, String). Variables are declared similarly but you don't have to explicitly list out the type of the variable like you do in Java. Mathematical expressions work basically the same as you would expect in Java.\n",
    "\n",
    "```java\n",
    "int x = 5;\n",
    "int y = 3;\n",
    "double z = 4.5;\n",
    "System.out.println(x + z - x / y);\n",
    "// Output: 8.5\n",
    "```\n",
    "\n",
    "In Python"
   ]
  },
  {
   "cell_type": "code",
   "execution_count": 15,
   "metadata": {},
   "outputs": [
    {
     "name": "stdout",
     "output_type": "stream",
     "text": [
      "7.833333333333333\n"
     ]
    }
   ],
   "source": [
    "x = 5\n",
    "y = 3\n",
    "z = 4.5\n",
    "print(x + z - x / y)"
   ]
  },
  {
   "cell_type": "markdown",
   "metadata": {},
   "source": [
    "We got a different answer! This is because in python3 `/` division between two integers can result in a float, much like how one would divide numbers in a normal math class. If you need to use integer division like in Java simply use `//` instead."
   ]
  },
  {
   "cell_type": "code",
   "execution_count": 16,
   "metadata": {},
   "outputs": [
    {
     "name": "stdout",
     "output_type": "stream",
     "text": [
      "8.5\n"
     ]
    }
   ],
   "source": [
    "print(x + z - x // y)"
   ]
  },
  {
   "cell_type": "markdown",
   "metadata": {},
   "source": [
    "Notice that you don't need semicolons to separate lines! You can add them in if you want, but it's unecessary to do so. One thing that is a bit odd at first is that Python uses indentation to figure out code structure rather than forcing you to write semicolons. I'll repeat because this is so important. **Indentation matters in Python. Your code won't run if your indentation isn't consistent**"
   ]
  },
  {
   "cell_type": "markdown",
   "metadata": {},
   "source": [
    "Also notice that Python does integer division just like Java; this means if you want to get a real number as a result from division you have to make one of the numbers a double.\n",
    "\n",
    "One useful operator Python provides is for exponents. In Java you write\n",
    "\n",
    "```java\n",
    "System.out.println(Math.pow(2, 3));\n",
    "```\n",
    "\n",
    "While in Python"
   ]
  },
  {
   "cell_type": "code",
   "execution_count": 17,
   "metadata": {},
   "outputs": [
    {
     "name": "stdout",
     "output_type": "stream",
     "text": [
      "8\n"
     ]
    }
   ],
   "source": [
    "print(2 ** 3)"
   ]
  },
  {
   "cell_type": "markdown",
   "metadata": {},
   "source": [
    "## Strings"
   ]
  },
  {
   "cell_type": "markdown",
   "metadata": {},
   "source": [
    "You can also make variables that hold Strings and concatenate them with numbers. \n",
    "```java\n",
    "String name = \"Hunter\";\n",
    "int age = 23;\n",
    "System.out.println(\"My name is \" + name + \" and I'm \" + age + \" years old\");\n",
    "// Ouptut: My name is Hunter and I'm 23 years old\n",
    "```\n",
    "\n",
    "In Python it looks like the following. Notice that you can use either single quotes or double quotes around String in Python. It doesn't matter which you use, but being consistent is most important."
   ]
  },
  {
   "cell_type": "code",
   "execution_count": 19,
   "metadata": {},
   "outputs": [
    {
     "name": "stderr",
     "output_type": "stream",
     "text": [
      "ERROR:root:Internal Python error in the inspect module.\n",
      "Below is the traceback from this internal error.\n",
      "\n"
     ]
    },
    {
     "name": "stdout",
     "output_type": "stream",
     "text": [
      "Traceback (most recent call last):\n",
      "  File \"/anaconda3/lib/python3.6/site-packages/IPython/core/interactiveshell.py\", line 2910, in run_code\n",
      "    exec(code_obj, self.user_global_ns, self.user_ns)\n",
      "  File \"<ipython-input-19-485b84ba7895>\", line 3, in <module>\n",
      "    print('My name is ' + name + \" and I'm \" + age + ' years old')\n",
      "TypeError: must be str, not int\n",
      "\n",
      "During handling of the above exception, another exception occurred:\n",
      "\n",
      "Traceback (most recent call last):\n",
      "  File \"/anaconda3/lib/python3.6/site-packages/IPython/core/interactiveshell.py\", line 1828, in showtraceback\n",
      "    stb = value._render_traceback_()\n",
      "AttributeError: 'TypeError' object has no attribute '_render_traceback_'\n",
      "\n",
      "During handling of the above exception, another exception occurred:\n",
      "\n",
      "Traceback (most recent call last):\n",
      "  File \"/anaconda3/lib/python3.6/site-packages/IPython/core/ultratb.py\", line 1090, in get_records\n",
      "    return _fixed_getinnerframes(etb, number_of_lines_of_context, tb_offset)\n",
      "  File \"/anaconda3/lib/python3.6/site-packages/IPython/core/ultratb.py\", line 311, in wrapped\n",
      "    return f(*args, **kwargs)\n",
      "  File \"/anaconda3/lib/python3.6/site-packages/IPython/core/ultratb.py\", line 345, in _fixed_getinnerframes\n",
      "    records = fix_frame_records_filenames(inspect.getinnerframes(etb, context))\n",
      "  File \"/anaconda3/lib/python3.6/inspect.py\", line 1483, in getinnerframes\n",
      "    frameinfo = (tb.tb_frame,) + getframeinfo(tb, context)\n",
      "  File \"/anaconda3/lib/python3.6/inspect.py\", line 1441, in getframeinfo\n",
      "    filename = getsourcefile(frame) or getfile(frame)\n",
      "  File \"/anaconda3/lib/python3.6/inspect.py\", line 696, in getsourcefile\n",
      "    if getattr(getmodule(object, filename), '__loader__', None) is not None:\n",
      "  File \"/anaconda3/lib/python3.6/inspect.py\", line 725, in getmodule\n",
      "    file = getabsfile(object, _filename)\n",
      "  File \"/anaconda3/lib/python3.6/inspect.py\", line 709, in getabsfile\n",
      "    return os.path.normcase(os.path.abspath(_filename))\n",
      "  File \"/anaconda3/lib/python3.6/posixpath.py\", line 374, in abspath\n",
      "    cwd = os.getcwd()\n",
      "FileNotFoundError: [Errno 2] No such file or directory\n"
     ]
    },
    {
     "ename": "TypeError",
     "evalue": "must be str, not int",
     "output_type": "error",
     "traceback": [
      "\u001b[0;31m---------------------------------------------------------------------------\u001b[0m"
     ]
    }
   ],
   "source": [
    "name = 'Hunter'\n",
    "age = 23\n",
    "print('My name is ' + name + \" and I'm \" + age + ' years old')"
   ]
  },
  {
   "cell_type": "markdown",
   "metadata": {},
   "source": [
    "This is what an error in Python looks like. It shows the chain of method calls that caused there errors with the line that threw the error and the error message at the bottom. In Java, you are allowed to concatenate Strings and numbers freeely but in Python it only allows String concatentation between Strings and Strings. \n",
    "\n",
    "There is a blessing and a curse with how Python deals with types. You don't have to explictly list out types which can be convenient while writing code so you don't have to write things like `Map<String, List<Set<String>>`. However, it can be tedious to debug your program because you have to keep track in your head what all the variable types are when you are running into errors. \n",
    "\n",
    "To fix this, we do the equivalent of casting in Java to turn an int into a String. In Python Strings are called `str`"
   ]
  },
  {
   "cell_type": "code",
   "execution_count": 20,
   "metadata": {},
   "outputs": [
    {
     "name": "stdout",
     "output_type": "stream",
     "text": [
      "My name is Hunter and I'm 23 years old\n"
     ]
    }
   ],
   "source": [
    "name = 'Hunter'\n",
    "age = 23\n",
    "print('My name is ' + name + \" and I'm \" + str(age) + ' years old')"
   ]
  },
  {
   "cell_type": "markdown",
   "metadata": {},
   "source": [
    "## Methods"
   ]
  },
  {
   "cell_type": "markdown",
   "metadata": {},
   "source": [
    "Most of the things you learned about methods in Java apply to methods in Python; the biggest difference is just how you define them, while the ideas of scope, parameters, returns all apply here. An example in Java\n",
    "\n",
    "```java\n",
    "public class Methods {\n",
    "    public static void main(String[] args) {\n",
    "        sayHello();\n",
    "        System.out.println(timesTwo(3));\n",
    "    }\n",
    "    \n",
    "    public static void sayHello() {\n",
    "        System.out.println(\"Hello world\");\n",
    "    }\n",
    "    \n",
    "    public static int timesTwo(int n) {\n",
    "        return 2 * n;\n",
    "    }\n",
    "}\n",
    "// Output: \n",
    "// Hello wiorld\n",
    "// 6\n",
    "```\n",
    "\n",
    "In Python"
   ]
  },
  {
   "cell_type": "code",
   "execution_count": 21,
   "metadata": {},
   "outputs": [
    {
     "name": "stdout",
     "output_type": "stream",
     "text": [
      "Hello world\n",
      "6\n"
     ]
    }
   ],
   "source": [
    "def main():\n",
    "    say_hello()\n",
    "    print(times_two(3))\n",
    "\n",
    "def say_hello():\n",
    "    print('Hello world') \n",
    "    \n",
    "def times_two(n):\n",
    "    return 2 * n\n",
    "\n",
    "if __name__  == '__main__':\n",
    "    main()"
   ]
  },
  {
   "cell_type": "markdown",
   "metadata": {},
   "source": [
    "Notice that the naming convention in Python is `snake_case` instead of `camelCase`. As you can see, parameters and returns work the same as they do in Java except that you leave off the types in their definitions. "
   ]
  }
 ],
 "metadata": {
  "kernelspec": {
   "display_name": "Python 3",
   "language": "python",
   "name": "python3"
  },
  "language_info": {
   "codemirror_mode": {
    "name": "ipython",
    "version": 3
   },
   "file_extension": ".py",
   "mimetype": "text/x-python",
   "name": "python",
   "nbconvert_exporter": "python",
   "pygments_lexer": "ipython3",
   "version": "3.6.4"
  }
 },
 "nbformat": 4,
 "nbformat_minor": 2
}
