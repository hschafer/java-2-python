{
 "cells": [
  {
   "cell_type": "markdown",
   "metadata": {},
   "source": [
    "# Lists, Sets, and Tuples"
   ]
  },
  {
   "cell_type": "markdown",
   "metadata": {},
   "source": [
    "## Lists"
   ]
  },
  {
   "cell_type": "markdown",
   "metadata": {},
   "source": [
    "In Java, we make a distinction between arrays which is a fixed length series of elements and `List`s like `ArrayList` or `LinkedList` which can hold a series of elements of arbitrary length. Python does not have arrays like Java, but they do have lists! In Java\n",
    "\n",
    "```java\n",
    "List<Integer> numbers = new ArrayList<Integer>();\n",
    "numbers.add(1);\n",
    "numbers.add(2);\n",
    "numbers.add(3);\n",
    "System.out.println(numbers)\n",
    "// Output: [1, 2, 3]\n",
    "```\n",
    "\n",
    "In Python"
   ]
  },
  {
   "cell_type": "code",
   "execution_count": 1,
   "metadata": {},
   "outputs": [
    {
     "name": "stdout",
     "output_type": "stream",
     "text": [
      "[1, 2, 3]\n"
     ]
    }
   ],
   "source": [
    "numbers = []\n",
    "numbers.append(1)\n",
    "numbers.append(2)\n",
    "numbers.append(3)\n",
    "print(numbers)"
   ]
  },
  {
   "cell_type": "markdown",
   "metadata": {},
   "source": [
    "Or much more succinctly"
   ]
  },
  {
   "cell_type": "code",
   "execution_count": 2,
   "metadata": {},
   "outputs": [],
   "source": [
    "numbers = [1, 2, 3]"
   ]
  },
  {
   "cell_type": "markdown",
   "metadata": {},
   "source": [
    "Here are common methods you use with lists\n",
    "\n",
    "| Java | Python                                    |\n",
    "|--------------------------|-----------------------|\n",
    "| numbers.add(1)           | numbers.append(1)     |\n",
    "| numbers.remove(2)        | numbers.remove(2)     |\n",
    "| numbers.get(0)           | numbers[0]            |\n",
    "| numbers.size()           | **len(numbers)**      |\n",
    "| numbers.contains(4)      | **4 in numbers**      |\n",
    "| numbers.addAll(other)    | numbers.extend(other) |\n",
    "| numbers.insert(0, 3)     | numbers.insert(0, 3)  |\n",
    "\n",
    "Notice that in Python `len` is not a function you call on a list, but a global function that you call passing in a list as a parameter; you can pass in almost any collection or series of elements to figure out how long it is using `len`. Similarly, there is an `in` keyword that works with most collections to check if an element is in the collection rather than calling a contains method."
   ]
  },
  {
   "cell_type": "markdown",
   "metadata": {},
   "source": [
    "## Building Lists: List Comprehensions"
   ]
  },
  {
   "cell_type": "markdown",
   "metadata": {},
   "source": [
    "Say that you have a list of numbers call `numbers` with the value `[1, 2, 3]`. Say you want to make a new list with all the odd values in `numbers` times 2. In Java\n",
    "\n",
    "```java \n",
    "List<Integer> numbers = new ArrayList<Integer>();\n",
    "numbers.add(1);\n",
    "numbers.add(2);\n",
    "numbers.add(3);\n",
    "\n",
    "List<Integer> numbers2 = new ArrayList<Integer>();\n",
    "for (int i = 0; i < numbers.size(); i++) {\n",
    "    if (numbers.get(i) % 2 == 1) {\n",
    "        numbers2.add(numbers.get(i) * 2);\n",
    "    }\n",
    "}\n",
    "System.out.println(numbers2);\n",
    "// Output: [2, 6]\n",
    "```\n",
    "In Python"
   ]
  },
  {
   "cell_type": "code",
   "execution_count": 3,
   "metadata": {},
   "outputs": [
    {
     "name": "stdout",
     "output_type": "stream",
     "text": [
      "[2, 6]\n"
     ]
    }
   ],
   "source": [
    "numbers = [1, 2, 3] # explicitly write out the list values\n",
    "numbers2 = []\n",
    "\n",
    "for num in numbers: # remember, no for loop only foreach\n",
    "    if num % 2 == 1:\n",
    "        numbers2.append(num * 2)\n",
    "        \n",
    "print(numbers2)"
   ]
  },
  {
   "cell_type": "markdown",
   "metadata": {},
   "source": [
    "This pattern of iterating over one collection, modifying the values in some consistent way, and adding them to a new list is so common that Python adds some syntactic sugar called \"list comprehensions\" that make this operation easier to write. Instead you could write"
   ]
  },
  {
   "cell_type": "code",
   "execution_count": 4,
   "metadata": {},
   "outputs": [
    {
     "name": "stdout",
     "output_type": "stream",
     "text": [
      "[2, 6]\n"
     ]
    }
   ],
   "source": [
    "numbers = [1, 2, 3]\n",
    "numbers2 = [2 * num for num in numbers if num % 2 == 1]\n",
    "print(numbers2)"
   ]
  },
  {
   "cell_type": "markdown",
   "metadata": {},
   "source": [
    "What is this actually saying? Let's break it up"
   ]
  },
  {
   "cell_type": "code",
   "execution_count": 5,
   "metadata": {},
   "outputs": [],
   "source": [
    "numbers2 = [           # Step 4) Put it all inside a list\n",
    "    2 * num            # Step 3) What do you do with the loop variable? \n",
    "    for num in numbers # Step 1) What are we looping over and what is the loop variable?\n",
    "    if num % 2 == 1    # Step 2 [Optional]) Don't compute for num if this is false\n",
    "]"
   ]
  },
  {
   "cell_type": "markdown",
   "metadata": {},
   "source": [
    "List comprehensions an be tricky to read and to use well. You don't have to know how to use them to succeed in this class, but you should know that they exist. You can do more complicated things like use nested list comprehensions and also use if else statements in-line. \n",
    "\n",
    "**Exercise**: Can you figure out what this list comprehension evaluates to? "
   ]
  },
  {
   "cell_type": "code",
   "execution_count": 7,
   "metadata": {},
   "outputs": [],
   "source": [
    "numbers = [1, 2, 3, 4, 5, 6, 7, 8, 9 , 10]\n",
    "\n",
    "numbers2 = [num + 5 for num in numbers if num >= 3]\n",
    "# print(numbers2) \n",
    "\n",
    "# Harder challenge\n",
    "numbers3 = [[i for i in range(1, num + 1) if num % i == 0] for num in numbers if num % 2 == 0]\n",
    "# print(numbers3) "
   ]
  },
  {
   "cell_type": "markdown",
   "metadata": {},
   "source": [
    "## Sets"
   ]
  },
  {
   "cell_type": "markdown",
   "metadata": {},
   "source": [
    "Sets work exactly like they do in Java where they maintain only unique elements. In Python you can create and use sets with almost the exact same syntax as lists, but with curly brackets instead of square brackets. `{1, 2, 3}` would be the set that holds 1, 2, and 3. Here are the methods available for sets."
   ]
  },
  {
   "cell_type": "markdown",
   "metadata": {},
   "source": [
    "| Java | Python                                    |\n",
    "|--------------------------|-----------------------|\n",
    "| numbers.add(1)           | numbers.add(1)        |\n",
    "| numbers.remove(2)        | numbers.remove(2)     |\n",
    "| numbers.size()           | **len(numbers)**      |\n",
    "| numbers.contains(4)      | **4 in numbers**      |"
   ]
  },
  {
   "cell_type": "markdown",
   "metadata": {},
   "source": [
    "## Tuples"
   ]
  },
  {
   "cell_type": "markdown",
   "metadata": {},
   "source": [
    "While Python doesn't have arrays like Java, it does have something called tuples. A tuple works very similarly to an array except you are allowed to have any type in the elements while Java only allows specific subtypes as the array elements. Here is an example usage of a tuple in Python"
   ]
  },
  {
   "cell_type": "code",
   "execution_count": 9,
   "metadata": {},
   "outputs": [
    {
     "name": "stdout",
     "output_type": "stream",
     "text": [
      "1 4.0\n",
      "(1, 'hello', 4.0)\n"
     ]
    },
    {
     "ename": "TypeError",
     "evalue": "'tuple' object does not support item assignment",
     "output_type": "error",
     "traceback": [
      "\u001b[0;31m---------------------------------------------------------------------------\u001b[0m",
      "\u001b[0;31mTypeError\u001b[0m                                 Traceback (most recent call last)",
      "\u001b[0;32m<ipython-input-9-775e463bb074>\u001b[0m in \u001b[0;36m<module>\u001b[0;34m()\u001b[0m\n\u001b[1;32m      2\u001b[0m \u001b[0mprint\u001b[0m\u001b[0;34m(\u001b[0m\u001b[0mt\u001b[0m\u001b[0;34m[\u001b[0m\u001b[0;36m0\u001b[0m\u001b[0;34m]\u001b[0m\u001b[0;34m,\u001b[0m \u001b[0mt\u001b[0m\u001b[0;34m[\u001b[0m\u001b[0;36m2\u001b[0m\u001b[0;34m]\u001b[0m\u001b[0;34m)\u001b[0m\u001b[0;34m\u001b[0m\u001b[0m\n\u001b[1;32m      3\u001b[0m \u001b[0mprint\u001b[0m\u001b[0;34m(\u001b[0m\u001b[0mt\u001b[0m\u001b[0;34m)\u001b[0m\u001b[0;34m\u001b[0m\u001b[0m\n\u001b[0;32m----> 4\u001b[0;31m \u001b[0mt\u001b[0m\u001b[0;34m[\u001b[0m\u001b[0;36m3\u001b[0m\u001b[0;34m]\u001b[0m \u001b[0;34m=\u001b[0m \u001b[0;36m14\u001b[0m \u001b[0;31m# can't do assignment!\u001b[0m\u001b[0;34m\u001b[0m\u001b[0m\n\u001b[0m",
      "\u001b[0;31mTypeError\u001b[0m: 'tuple' object does not support item assignment"
     ]
    }
   ],
   "source": [
    "t = (1, 'hello', 4.0)\n",
    "print(t[0], t[2])\n",
    "print(t)\n",
    "t[3] = 14 # can't do assignment! "
   ]
  },
  {
   "cell_type": "markdown",
   "metadata": {},
   "source": [
    "An error! It turns out that tuples are immutable so you are unable to modify it's contents! \n",
    "\n",
    "You are also able to return tuples from methods which allows you to have multiple return values that Java does not allowed. You are also able to \"unpack\" a tuple to take it apart and give names to their elements. See example for both of these concepts"
   ]
  },
  {
   "cell_type": "code",
   "execution_count": 10,
   "metadata": {},
   "outputs": [
    {
     "name": "stdout",
     "output_type": "stream",
     "text": [
      "Smallest: 1, Largest: 10\n"
     ]
    }
   ],
   "source": [
    "def min_max(numbers):\n",
    "    min_val = numbers[0]\n",
    "    max_val = numbers[0]\n",
    "    for num in numbers:\n",
    "        if num < min_val:\n",
    "            min_val = num\n",
    "        if num > max_val:\n",
    "            max_val = num\n",
    "            \n",
    "    return min_val, max_val # Looks like you are returning 2 things, but you're really returning a tuple with 2 elements\n",
    "\n",
    "def main():\n",
    "    numbers = [1, 2, 3, 4, 5, 6, 7, 8, 9, 10]\n",
    "    smallest, largest = min_max(numbers) # returns a tuple and separates its 2 parts into 2 variables\n",
    "    print('Smallest: ' + str(smallest) + ', Largest: ' + str(largest))\n",
    "    \n",
    "if __name__ == '__main__':\n",
    "    main()\n",
    "            "
   ]
  },
  {
   "cell_type": "code",
   "execution_count": null,
   "metadata": {},
   "outputs": [],
   "source": []
  }
 ],
 "metadata": {
  "kernelspec": {
   "display_name": "Python 3",
   "language": "python",
   "name": "python3"
  },
  "language_info": {
   "codemirror_mode": {
    "name": "ipython",
    "version": 3
   },
   "file_extension": ".py",
   "mimetype": "text/x-python",
   "name": "python",
   "nbconvert_exporter": "python",
   "pygments_lexer": "ipython3",
   "version": "3.6.4"
  }
 },
 "nbformat": 4,
 "nbformat_minor": 2
}
