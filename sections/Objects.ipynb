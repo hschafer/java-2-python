{
 "cells": [
  {
   "cell_type": "markdown",
   "metadata": {},
   "source": [
    "# Objects"
   ]
  },
  {
   "cell_type": "markdown",
   "metadata": {},
   "source": [
    "Defining your own data types is useful in all languages. To define a `Point` class in Java you would usually write two files `Point.java` and a `Client.java`\n",
    "\n",
    "`Point.java`\n",
    "```java\n",
    "public class Point {\n",
    "    private int x;\n",
    "    private int y;\n",
    "    \n",
    "    public Point(int x, int y) {\n",
    "        this.x = x;\n",
    "        this.y = y;\n",
    "    }\n",
    "    \n",
    "    public int getX() {\n",
    "        return x;\n",
    "    }\n",
    "    \n",
    "    public int getY() {\n",
    "        return this.y; // The `this.` is not necessary but will leave in for clarity\n",
    "    }\n",
    "}\n",
    "```\n",
    "\n",
    "`Client.java`\n",
    "```java\n",
    "public class Client {\n",
    "    public static void main(String[] args) {\n",
    "        Point p1 = new Point(0, 0);\n",
    "        Point p2 = new Point(1, 2);\n",
    "        System.out.println(\"p1 x = \" + p1.getX() + \", y = \" + p1.getY());\n",
    "        System.out.println(\"p2 x = \" + p2.getX() + \", y = \" + p2.getY());\n",
    "    }\n",
    "}\n",
    "// Output\n",
    "// p1 x = 0, y = 0\n",
    "// p2 x = 1, y = 2\n",
    "```\n",
    "In Python, you can easily define all of these in the same program (might be better to split them up, but in Jupyter Notebooks we don't really have files)\n"
   ]
  },
  {
   "cell_type": "code",
   "execution_count": 1,
   "metadata": {},
   "outputs": [
    {
     "name": "stdout",
     "output_type": "stream",
     "text": [
      "p1 x = 0, y = 0\n",
      "p2 x = 1, y = 2\n"
     ]
    }
   ],
   "source": [
    "class Point:\n",
    "    # Don't define fields up here, define them in constructor! \n",
    "    \n",
    "    # This is the constructor\n",
    "    def __init__(self, x, y):\n",
    "        # self acts like `this` in Java, but you have to explicitly list it as a parameter\n",
    "        self._x = x # By convention fields should start with _\n",
    "        self._y = y\n",
    "        \n",
    "    def get_x(self):\n",
    "        return self._x\n",
    "    \n",
    "    def get_y(self):\n",
    "        return self._y\n",
    "    \n",
    "def main():\n",
    "    p1 = Point(0, 0)\n",
    "    p2 = Point(1, 2)\n",
    "    print(\"p1 x = \" + str(p1.get_x()) + \", y = \" + str(p1.get_y()))\n",
    "    print(\"p2 x = \" + str(p2.get_x()) + \", y = \" + str(p2.get_y()))\n",
    "\n",
    "if __name__ == '__main__':\n",
    "    main()"
   ]
  },
  {
   "cell_type": "code",
   "execution_count": null,
   "metadata": {},
   "outputs": [],
   "source": []
  }
 ],
 "metadata": {
  "kernelspec": {
   "display_name": "Python 3",
   "language": "python",
   "name": "python3"
  },
  "language_info": {
   "codemirror_mode": {
    "name": "ipython",
    "version": 3
   },
   "file_extension": ".py",
   "mimetype": "text/x-python",
   "name": "python",
   "nbconvert_exporter": "python",
   "pygments_lexer": "ipython3",
   "version": "3.6.4"
  }
 },
 "nbformat": 4,
 "nbformat_minor": 2
}
