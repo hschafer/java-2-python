{
 "cells": [
  {
   "cell_type": "markdown",
   "metadata": {},
   "source": [
    "# Control Structures"
   ]
  },
  {
   "cell_type": "markdown",
   "metadata": {},
   "source": [
    "## Booleans and If Statements"
   ]
  },
  {
   "cell_type": "markdown",
   "metadata": {},
   "source": [
    "Booleans in Java are declared like \n",
    "```java\n",
    "boolean b1 = true;\n",
    "boolean b2 = false;\n",
    "boolean b3 = b1 && b2;\n",
    "boolean b4 = b3 || !b2;\n",
    "boolean b5 = b3 == b4;\n",
    "```\n",
    "\n",
    "In Python the code would look like this"
   ]
  },
  {
   "cell_type": "code",
   "execution_count": 1,
   "metadata": {},
   "outputs": [],
   "source": [
    "b1 = True\n",
    "b2 = False\n",
    "b3 = b1 and b2\n",
    "b4 = b3 or not b2\n",
    "b5 = b3 == b4"
   ]
  },
  {
   "cell_type": "markdown",
   "metadata": {},
   "source": [
    "If statements work exactly like you would expect they would from Java\n",
    "```java\n",
    "int n = 4;\n",
    "if (n % 3 == 0) {\n",
    "    System.out.println(\"Case 0\");\n",
    "} else if (n % 3 == 1 || n % 2 == 0) {\n",
    "    System.out.println(\"Case 1\");\n",
    "} else {\n",
    "    System.out.println(\"Case 2\");\n",
    "}\n",
    "System.out.println(\"After if/else\");\n",
    "// Output: \n",
    "// Case 1\n",
    "// After if/else\n",
    "```\n",
    "\n",
    "In Python"
   ]
  },
  {
   "cell_type": "code",
   "execution_count": 1,
   "metadata": {},
   "outputs": [
    {
     "name": "stdout",
     "output_type": "stream",
     "text": [
      "Case 1\n",
      "After if/else\n"
     ]
    }
   ],
   "source": [
    "n = 4\n",
    "if n % 3 == 0:\n",
    "    print('Case 0') \n",
    "elif n % 3 == 1 or n % 2 == 0:\n",
    "    print('Case 1') \n",
    "else:\n",
    "    print('Case 2') \n",
    "print('After if/else') "
   ]
  },
  {
   "cell_type": "markdown",
   "metadata": {},
   "source": [
    "Notice some differences \n",
    "* You don't need partenthesis around the condition (you can add them like you can around any expression)\n",
    "* Lines for the control flow end with a colon\n",
    "* Instead of `else if`, Python uses `elif`\n",
    "* **Indentation matters. Your code will break if indentation is wrong**\n",
    "    * Notice how Python figures out that the last print is outside the else branch based on indentation"
   ]
  },
  {
   "cell_type": "markdown",
   "metadata": {},
   "source": [
    "### Optional: Conditional Expressions"
   ]
  },
  {
   "cell_type": "markdown",
   "metadata": {},
   "source": [
    "Some may be familiar with \"ternary\" in Java which allows you to use conditionals in expressions. In Java\n",
    "```java\n",
    "int n = 42;\n",
    "int m = n <= 100 ? 1 : 3; // m will be 1 if n <= 100, 3 otherwise\n",
    "```\n",
    "\n",
    "In Python, this can also be done albeit in a bit more readable notation"
   ]
  },
  {
   "cell_type": "code",
   "execution_count": 2,
   "metadata": {},
   "outputs": [],
   "source": [
    "n = 42\n",
    "m = 1 if n <= 100 else 3  # m will be 1\n",
    "# How to read: expression1 if conditon is true else expression2"
   ]
  },
  {
   "cell_type": "markdown",
   "metadata": {},
   "source": [
    "## While loops "
   ]
  },
  {
   "cell_type": "markdown",
   "metadata": {},
   "source": [
    "These work exactly the same as Java\n",
    "```java\n",
    "int n = 1;\n",
    "while (n < 200) {\n",
    "    n = n * 2 + 3;\n",
    "}\n",
    "System.out.println(\"n = \" + n);\n",
    "// Output: n = 253\n",
    "```\n",
    "\n",
    "In Python"
   ]
  },
  {
   "cell_type": "code",
   "execution_count": 4,
   "metadata": {},
   "outputs": [
    {
     "name": "stdout",
     "output_type": "stream",
     "text": [
      "n = 253\n"
     ]
    }
   ],
   "source": [
    "n = 1\n",
    "while n < 200:\n",
    "    n = n * 2 + 3\n",
    "print('n = ' + str(n))"
   ]
  },
  {
   "cell_type": "markdown",
   "metadata": {},
   "source": [
    "## For loops"
   ]
  },
  {
   "cell_type": "markdown",
   "metadata": {},
   "source": [
    "This is one of the control structures that's most different between Java and Python. Compare the following examples. \n",
    "```java\n",
    "for (int i = 1; i <= 5; i++) {\n",
    "    System.out.println(i);\n",
    "}\n",
    "// Output: \n",
    "// 1\n",
    "// 2\n",
    "// 3\n",
    "// 4\n",
    "// 5\n",
    "```\n",
    "\n",
    "In Python"
   ]
  },
  {
   "cell_type": "code",
   "execution_count": 5,
   "metadata": {},
   "outputs": [
    {
     "name": "stdout",
     "output_type": "stream",
     "text": [
      "1\n",
      "2\n",
      "3\n",
      "4\n",
      "5\n"
     ]
    }
   ],
   "source": [
    "for i in range(1, 6):\n",
    "    print(i) "
   ]
  },
  {
   "cell_type": "markdown",
   "metadata": {},
   "source": [
    "Python doesn't have a for loop in the sense that you think of the one in Java where it has the initialization, test, and update sections of the for loop header. Instead they only have what Java would call a \"foreach loop\" which iterates over a collection of elements. \n",
    "\n",
    "```java\n",
    "int[] numbers = {1, 2, 3, 4, 5};\n",
    "for (int i : numbers) {\n",
    "    System.out.print(i);\n",
    "}\n",
    "```\n",
    "\n",
    "`range` is a function that takes a start (inclusive) and end (exclusive) and returns the sequence of numbers from start to end. This Java code snippet and the previous Python one are basically the same (except for constructing the list of numbers)"
   ]
  }
 ],
 "metadata": {
  "kernelspec": {
   "display_name": "Python 3",
   "language": "python",
   "name": "python3"
  },
  "language_info": {
   "codemirror_mode": {
    "name": "ipython",
    "version": 3
   },
   "file_extension": ".py",
   "mimetype": "text/x-python",
   "name": "python",
   "nbconvert_exporter": "python",
   "pygments_lexer": "ipython3",
   "version": "3.6.4"
  }
 },
 "nbformat": 4,
 "nbformat_minor": 2
}
