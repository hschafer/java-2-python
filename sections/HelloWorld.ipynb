{
 "cells": [
  {
   "cell_type": "markdown",
   "metadata": {},
   "source": [
    "## What is a Notebook?\n"
   ]
  },
  {
   "cell_type": "markdown",
   "metadata": {},
   "source": [
    "You are reading this guide in a \"Jupyter Notebook\". This is different for how you normally write Java programs where you write them in a `.java` file and run the whole program. Here, this page is made of a bunch of \"cells\" which contain chunks of code or text. A lot of times you will be writing `.py` files that have all your Python code, but these Notebooks are great for developing chunks of code that you can refer back to later. \n",
    "\n",
    "In this tutorial I will treat each cell like an independent program even though the variables you use in one cell can be used in another after running them. You can run a Python cell by pressing the run button after clicking on it (or hitting Shift-Enter if you are editing it). Feel free to edit any of the code examples to try it out yourself!"
   ]
  },
  {
   "cell_type": "markdown",
   "metadata": {},
   "source": [
    "## Hello World"
   ]
  },
  {
   "cell_type": "markdown",
   "metadata": {},
   "source": [
    "By convention the first program you write is a hello world program. You would write this in Java as \n",
    "\n",
    "```java\n",
    "public class HelloWorld {\n",
    "    // This is a comment for the main method\n",
    "    public static void main(String[] args) {\n",
    "        System.out.println(\"Hello world!\");\n",
    "    }\n",
    "}\n",
    "// Output: Hello world!\n",
    "```\n",
    "\n",
    "Here is how you write the program in Python"
   ]
  },
  {
   "cell_type": "code",
   "execution_count": 2,
   "metadata": {},
   "outputs": [
    {
     "name": "stdout",
     "output_type": "stream",
     "text": [
      "Hello world!\n"
     ]
    }
   ],
   "source": [
    "# This is a comment for the main method\n",
    "def main():\n",
    "    print('Hello world!')\n",
    "\n",
    "# Magic incantation to call the main method only when we want it to\n",
    "if __name__ == '__main__':\n",
    "    main()"
   ]
  },
  {
   "cell_type": "markdown",
   "metadata": {},
   "source": [
    "Notice some differences here\n",
    "\n",
    "* You don't have to define a class in Python\n",
    "* You don't have to write out all the keywords you needed in Java to define a method! All you need is `def`. \n",
    "* Python uses a colon `:` and indentation instead of curly brackets `{}`\n",
    "* By default Python does not run the `main` method, we have to explicitly call main at the end of our program. \n",
    "\n",
    "When you are writing a script in a `.py` file, it's considered good style to write your program like the one above. However, in the case of Jupyter Notebooks we don't care about each cell being it's own runnable program and it would be overly verbose to write a main method for every cell. You can just write the code you want in the cell like it is wrapped in a main method like you can see in the example below.\n"
   ]
  },
  {
   "cell_type": "code",
   "execution_count": 3,
   "metadata": {},
   "outputs": [
    {
     "name": "stdout",
     "output_type": "stream",
     "text": [
      "Hello world!\n"
     ]
    }
   ],
   "source": [
    "print('Hello world!') "
   ]
  },
  {
   "cell_type": "markdown",
   "metadata": {},
   "source": [
    "For the rest of the tutorial, I will leave out main methods and just write the code directly in the cells. I'll leave out the main method and class definition in the Java examples where appropriate."
   ]
  }
 ],
 "metadata": {
  "kernelspec": {
   "display_name": "Python 3",
   "language": "python",
   "name": "python3"
  },
  "language_info": {
   "codemirror_mode": {
    "name": "ipython",
    "version": 3
   },
   "file_extension": ".py",
   "mimetype": "text/x-python",
   "name": "python",
   "nbconvert_exporter": "python",
   "pygments_lexer": "ipython3",
   "version": "3.6.4"
  }
 },
 "nbformat": 4,
 "nbformat_minor": 2
}
