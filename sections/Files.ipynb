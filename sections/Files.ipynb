{
 "cells": [
  {
   "cell_type": "markdown",
   "metadata": {},
   "source": [
    "# Read from a File"
   ]
  },
  {
   "cell_type": "markdown",
   "metadata": {},
   "source": [
    "Say we have a CSV file named `staff.csv` with the contents:"
   ]
  },
  {
   "cell_type": "raw",
   "metadata": {},
   "source": [
    "name,email,id\n",
    "Emily,efox,42\n",
    "John,jkbach,79\n",
    "Varun,varun94,80"
   ]
  },
  {
   "cell_type": "markdown",
   "metadata": {},
   "source": [
    "CSV files are like Excel spreadsheets in a readable form for programs. Each line is a row and the columns are separated by commas.\n",
    "\n",
    "To read this in and print to the console in Java you write\n",
    "```java\n",
    "import java.util.Scanner;\n",
    "import java.io.File;\n",
    "\n",
    "public class PrintStaff {\n",
    "    public static void main(String[] args) throws FileNotFoundException {\n",
    "        Scanner input = new Scanner(new File(\"staff.csv\"));\n",
    "        \n",
    "        input.nextLine(); // get rid of header row\n",
    "        \n",
    "        while (input.hasNextLine()) {\n",
    "            String line = input.nextLine();\n",
    "            String[] parts = line.split(\",\");\n",
    "            \n",
    "            System.out.println(\"name: \" + parts[0] + \", email: \" + parts[1] + \"@uw.edu\");\n",
    "        }\n",
    "    }\n",
    "}\n",
    "// Output:\n",
    "// Emily: efox@uw.edu\n",
    "// John: jkbach@uw.edu\n",
    "// Varun: varun94@uw.edu\n",
    "```\n",
    "In Python"
   ]
  },
  {
   "cell_type": "code",
   "execution_count": 1,
   "metadata": {},
   "outputs": [
    {
     "name": "stdout",
     "output_type": "stream",
     "text": [
      "Emily: efox@uw.edu\n",
      "John: jkbach@uw.edu\n",
      "Varun: varun94@uw.edu\n"
     ]
    }
   ],
   "source": [
    "# The second parameter 'r' says we are reading the file\n",
    "with open('staff.csv', 'r') as staff_file:\n",
    "    staff_file.readline() # get rid of header row\n",
    "    for line in staff_file.readlines():\n",
    "        parts = line.split(',')\n",
    "        print(parts[0] + ': ' + parts[1] + '@uw.edu')"
   ]
  },
  {
   "cell_type": "markdown",
   "metadata": {},
   "source": [
    "# Write to a File"
   ]
  },
  {
   "cell_type": "markdown",
   "metadata": {},
   "source": [
    "Say you want to write something to a file so you can save the output of your program later. In Java, there is a pretty different interface for writing to a file. \n",
    "\n",
    "```java\n",
    "// StaffMember.java\n",
    "public class StaffMember {\n",
    "    private String name;\n",
    "    private String email;\n",
    "    private int id;\n",
    "    \n",
    "    public StaffMember(String name, String email, int id) {\n",
    "        this.name = name;\n",
    "        this.email = email;\n",
    "        this.id = id;\n",
    "    }\n",
    "    \n",
    "    public String getName() {\n",
    "        return this.name;\n",
    "    }\n",
    "    \n",
    "    public String getEmail() {\n",
    "        return this.email;\n",
    "    }\n",
    "    \n",
    "    public int getId() {\n",
    "        return this.id;\n",
    "    }\n",
    "}\n",
    "\n",
    "// WriteStaff.java\n",
    "import java.io.File;\n",
    "import java.io.PrintStream;\n",
    "\n",
    "public class WriteStaff {\n",
    "    public static void main(String[] args) {\n",
    "        StaffMember[] staffMembers = {\n",
    "            new StaffMember(\"Emily\", \"efox\", 42),\n",
    "            new StaffMember(\"Patrick\", \"pspieker\", 103),\n",
    "            new StaffMember(\"Hunter\", \"hschafer\", 81)\n",
    "        };\n",
    "        \n",
    "        PrinstStream out = new PrintStream(new File(\"new_staff.csv\"));\n",
    "        out.println(\"name,email,id\");\n",
    "        for (StaffMember staffMemeber : staffMembers) {\n",
    "            out.println(staffMember.getName() + \",\" + staffMember.getEmail() + \",\" + staffMember.getId());\n",
    "        }\n",
    "    }\n",
    "}\n",
    "```\n",
    "Notice we are defining our own data object to make it clearer what the data we are working with represents. You could have accomplished this with just Tuples and Lists, but giving the fields names makes the program much easier to read.\n",
    "\n",
    "In Python"
   ]
  },
  {
   "cell_type": "code",
   "execution_count": 2,
   "metadata": {},
   "outputs": [],
   "source": [
    "class StaffMember:\n",
    "    def __init__(self, name, email, id):\n",
    "        self._name = name\n",
    "        self._email = email\n",
    "        self._id = id\n",
    "        \n",
    "    def get_name(self):\n",
    "        return self._name\n",
    "    \n",
    "    def get_email(self):\n",
    "        return self._email\n",
    "    \n",
    "    def get_id(self):\n",
    "        return self._id\n",
    "    \n",
    "\n",
    "def main():\n",
    "    staff_members = [\n",
    "        StaffMember('Emily', 'efox', 32),\n",
    "        StaffMember('Patrick', 'pspieker', 103),\n",
    "        StaffMember('Hunter', 'hschafer', 81)\n",
    "    ]\n",
    "    \n",
    "    # The second parameter 'w' says we will write to a file\n",
    "    with open('staff2.csv', 'w') as staff_file:\n",
    "        staff_file.write('name,email,id\\n')  # Annoying: You have to write the newline yourself\n",
    "        for staff_member in staff_members:\n",
    "            staff_file.write(staff_member.get_name() + ',' + staff_member.get_email() \n",
    "                             + ',' + str(staff_member.get_id()) + '\\n')\n",
    "        \n",
    "        \n",
    "if __name__ == '__main__':\n",
    "    main()\n",
    "        "
   ]
  },
  {
   "cell_type": "code",
   "execution_count": null,
   "metadata": {},
   "outputs": [],
   "source": []
  }
 ],
 "metadata": {
  "kernelspec": {
   "display_name": "Python 3",
   "language": "python",
   "name": "python3"
  },
  "language_info": {
   "codemirror_mode": {
    "name": "ipython",
    "version": 3
   },
   "file_extension": ".py",
   "mimetype": "text/x-python",
   "name": "python",
   "nbconvert_exporter": "python",
   "pygments_lexer": "ipython3",
   "version": "3.6.4"
  }
 },
 "nbformat": 4,
 "nbformat_minor": 2
}
