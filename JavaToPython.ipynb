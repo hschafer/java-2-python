{
 "cells": [
  {
   "cell_type": "markdown",
   "metadata": {},
   "source": [
    "# Preface"
   ]
  },
  {
   "cell_type": "markdown",
   "metadata": {},
   "source": [
    "Learning a new language (programming or spoken) can be extremely difficult. Usually the first language you learn will probably be the hardest to learn. Trying to learn a second language will also be challenging, but hopefully you will be able to rely on your experience from the first language you learned to help you along with the second; instead of learning all the concepts of a language from scratch, you are able to map the concepts from the old language and figure out how to write/say them in the new language. Our hope with this guide is to make learning Python easier by leveraging your experience with Java. \n",
    "\n",
    "In CSE 142/143, you might have felt like you were only learning Java but we were actually teaching you computational thinking and how to write programs to solve problems. All of those skills are transferable in full to solving skills in almost any language of your choice. All we have to teach you now is the _syntax_ of Python so you can solve problems using the ideas you learned in Java. This is easier said than done, but this guide should help by mapping concepts that you learned in Java to how they are \"said\" in Python. When I was first learning Python, I normally thought of the code in my head in Java and then translated to Python as I typed. \n",
    "\n",
    "By the end of this guide, you will not be a master at Python. To master a language you need to practice and practice takes time. Our hope is that this guide will make practicing easier and act as a reference for when you are trying to write Python. You will become familiar with looking up \"How do I do X in Python\", but after practicing for long enough you will start to think in Python instead of thinking in Java. \n",
    "\n",
    "This guide has been modified for python3 by Henry Wang for CSE416 SP19"
   ]
  },
  {
   "cell_type": "markdown",
   "metadata": {},
   "source": [
    "## Table of Contents"
   ]
  },
  {
   "cell_type": "markdown",
   "metadata": {},
   "source": [
    "1. [Hello World](sections/HelloWorld.ipynb)\n",
    "2. [Python Basics: Variables, Expressions, Methods](sections/PythonBasics.ipynb)\n",
    "3. [Control Structures: If Statements, While Loops, For Loops](sections/ControlStructures.ipynb)\n",
    "4. [Lists, Sets, Tuples](sections/ListsSetsTuples.ipynb)\n",
    "5. [Dictionaries](sections/Dictionaries.ipynb)\n",
    "6. [Objects](sections/Objects.ipynb)\n",
    "7. [File I/O](sections/Files.ipynb)"
   ]
  },
  {
   "cell_type": "markdown",
   "metadata": {},
   "source": [
    "## Feedback"
   ]
  },
  {
   "cell_type": "markdown",
   "metadata": {},
   "source": [
    "This guide is relatively new and has not been rigorously proofread. If you notice any typos, grammar mistakes, or sections that were confusing to read, please submit feedback using our [issue tracker](https://github.com/hschafer/java-2-python/issues). Pull requests with proposed changes are also welcome! "
   ]
  },
  {
   "cell_type": "markdown",
   "metadata": {},
   "source": [
    "## Other Resources"
   ]
  },
  {
   "cell_type": "markdown",
   "metadata": {},
   "source": [
    "* [Learn X in Y Minutes](https://learnxinyminutes.com/docs/python/)"
   ]
  }
 ],
 "metadata": {
  "kernelspec": {
   "display_name": "Python 3",
   "language": "python",
   "name": "python3"
  },
  "language_info": {
   "codemirror_mode": {
    "name": "ipython",
    "version": 3
   },
   "file_extension": ".py",
   "mimetype": "text/x-python",
   "name": "python",
   "nbconvert_exporter": "python",
   "pygments_lexer": "ipython3",
   "version": "3.6.4"
  }
 },
 "nbformat": 4,
 "nbformat_minor": 2
}
